{
 "cells": [
  {
   "cell_type": "code",
   "execution_count": 51,
   "id": "cbc6ee48",
   "metadata": {},
   "outputs": [],
   "source": [
    "from dotenv import load_dotenv\n",
    "import os   \n",
    "from langchain_google_genai.chat_models import ChatGoogleGenerativeAI\n",
    "from langchain_google_genai.embeddings import GoogleGenerativeAIEmbeddings\n",
    "from langchain_pinecone import PineconeVectorStore\n",
    "from langchain_text_splitters import RecursiveCharacterTextSplitter\n",
    "from langchain.document_loaders import PyPDFDirectoryLoader\n",
    "from langchain_core.prompts import PromptTemplate\n",
    "import requests\n"
   ]
  },
  {
   "cell_type": "code",
   "execution_count": 52,
   "id": "0d17d3e3",
   "metadata": {},
   "outputs": [],
   "source": [
    "load_dotenv()\n",
    "model=ChatGoogleGenerativeAI(model=\"gemini-2.0-flash\")"
   ]
  },
  {
   "cell_type": "code",
   "execution_count": 53,
   "id": "f30dbb34",
   "metadata": {},
   "outputs": [
    {
     "name": "stdout",
     "output_type": "stream",
     "text": [
      "File saved successfully as c:\\Users\\user\\Desktop\\Financial_Analyzer\\documents\\tcs.pdf\n"
     ]
    }
   ],
   "source": [
    "URL=\"https://www.tcs.com/content/dam/tcs/investor-relations/financial-statements/2023-24/ar/annual-report-2023-2024.pdf\"\n",
    "filename=os.path.join(os.getcwd(),\"documents\",\"tcs.pdf\")\n",
    "response=requests.get(URL,stream=True)\n",
    "if response.status_code==200:\n",
    "    with open(filename,\"wb\") as f:\n",
    "        for chunk in response.iter_content(chunk_size=1024):\n",
    "            if chunk:\n",
    "                f.write(chunk)\n",
    "        print(f\"File saved successfully as {filename}\")\n",
    "\n"
   ]
  },
  {
   "cell_type": "code",
   "execution_count": 54,
   "id": "25b97e48",
   "metadata": {},
   "outputs": [],
   "source": [
    "def document_loader(directory_path):\n",
    "    loader = PyPDFDirectoryLoader(directory_path)\n",
    "    documents = loader.load()\n",
    "    return documents"
   ]
  },
  {
   "cell_type": "code",
   "execution_count": 55,
   "id": "5dc015c0",
   "metadata": {},
   "outputs": [],
   "source": [
    "documents=document_loader(r\"C:\\Users\\user\\Desktop\\Financial_Analyzer\\documents\")"
   ]
  },
  {
   "cell_type": "code",
   "execution_count": 56,
   "id": "d4728482",
   "metadata": {},
   "outputs": [],
   "source": [
    "def chunk_splitter(documents,chunk_size=1000,chunk_overlap=200):\n",
    "    text_splitter = RecursiveCharacterTextSplitter(chunk_size=chunk_size, chunk_overlap=chunk_overlap)\n",
    "    docs = text_splitter.split_documents(documents)\n",
    "    return docs"
   ]
  },
  {
   "cell_type": "code",
   "execution_count": 57,
   "id": "7da5cc8c",
   "metadata": {},
   "outputs": [],
   "source": [
    "splitted_doc=chunk_splitter(documents)"
   ]
  },
  {
   "cell_type": "code",
   "execution_count": 58,
   "id": "16cd57e4",
   "metadata": {},
   "outputs": [
    {
     "data": {
      "text/plain": [
       "1453"
      ]
     },
     "execution_count": 58,
     "metadata": {},
     "output_type": "execute_result"
    }
   ],
   "source": [
    "len(splitted_doc)"
   ]
  },
  {
   "cell_type": "code",
   "execution_count": 59,
   "id": "3dc62a2b",
   "metadata": {},
   "outputs": [],
   "source": [
    "embeddings=GoogleGenerativeAIEmbeddings(model=\"models/embedding-001\",google_api_key=os.environ['GOOGLE_API_KEY'])"
   ]
  },
  {
   "cell_type": "code",
   "execution_count": 60,
   "id": "839e65fc",
   "metadata": {},
   "outputs": [],
   "source": [
    "# Import the Pinecone library\n",
    "from pinecone import Pinecone\n",
    "load_dotenv()\n",
    "# Initialize a Pinecone client with your API key\n",
    "pc = Pinecone(api_key=os.environ[\"PINECONE_API_KEY\"])\n",
    "\n",
    "# Create a dense index with integrated embedding\n",
    "index_name = \"langchain\"\n",
    "if not pc.has_index(index_name):\n",
    "    pc.create_index_for_model(\n",
    "        name=index_name,\n",
    "        cloud=\"aws\",\n",
    "        region=\"us-east-1\",\n",
    "        embed={\n",
    "            \"model\":\"llama-text-embed-v2\",\n",
    "            \"field_map\":{\"text\": \"chunk_text\"}\n",
    "        }\n",
    "    )"
   ]
  },
  {
   "cell_type": "code",
   "execution_count": 61,
   "id": "1b4400cc",
   "metadata": {},
   "outputs": [],
   "source": [
    "index=PineconeVectorStore.from_documents(documents=splitted_doc,embedding=embeddings,index_name=index_name)"
   ]
  },
  {
   "cell_type": "code",
   "execution_count": 62,
   "id": "004b27b7",
   "metadata": {},
   "outputs": [],
   "source": [
    "def retrive_query(query,k=2):\n",
    "    matching_result=index.similarity_search(query=query,k=k)\n",
    "    return matching_result\n"
   ]
  },
  {
   "cell_type": "code",
   "execution_count": 134,
   "id": "1111ae4d",
   "metadata": {},
   "outputs": [],
   "source": [
    "prompt = PromptTemplate(\n",
    "    input_variables=[\"context\", \"question\"],\n",
    "    template=\"\"\"\n",
    "You are a highly skilled financial analyst. \n",
    "Answer the question strictly using ONLY the information from the provided context. \n",
    "Do not use outside knowledge.\n",
    "\n",
    "When answering:\n",
    "- If the question is **numeric or factual** → Give the exact number with units.  \n",
    "- If the question is **comparative** → Show side-by-side values and state which is higher/lower.  \n",
    "- If the question is **analytical (\"why\" or \"how\")** → Extract and explain reasons from context.  \n",
    "- If the question is **summary/overview** → Highlight revenue, profit, margins, and growth.  \n",
    "\n",
    "Always structure your answer as follows:\n",
    "**Answer:** <clear, direct response>  \n",
    "**Supporting Context:** <quote or summarize the part of the context that justifies your answer>  \n",
    "\n",
    "If the answer is not available in the context, respond with:  \n",
    "\"The context does not provide this information.\"\n",
    "\n",
    "Context:\n",
    "{context}\n",
    "\n",
    "Question:\n",
    "{question}\n",
    "\"\"\"\n",
    ")\n"
   ]
  },
  {
   "cell_type": "code",
   "execution_count": 135,
   "id": "e275c7e6",
   "metadata": {},
   "outputs": [],
   "source": [
    "question=\"What is the revenue of TCS in 2023-24 ?\"\n",
    "docs=retrive_query(question)\n",
    "context=\"\\n\".join([doc.page_content for doc in docs])\n"
   ]
  },
  {
   "cell_type": "code",
   "execution_count": 125,
   "id": "75e2e3c5",
   "metadata": {},
   "outputs": [],
   "source": [
    "final_prompt=prompt.invoke({\"context\":context,\"question\":question})"
   ]
  },
  {
   "cell_type": "code",
   "execution_count": 136,
   "id": "54b37451",
   "metadata": {},
   "outputs": [],
   "source": [
    "answer=model.invoke(final_prompt)\n"
   ]
  },
  {
   "cell_type": "code",
   "execution_count": 127,
   "id": "62a78556",
   "metadata": {},
   "outputs": [
    {
     "data": {
      "text/plain": [
       "AIMessage(content='**Summary of Financial Performance:**\\n- Revenue: ₹240,893 crore, 6.8% growth\\n- EBIT: ₹59,311 crore, 24.6% margin\\n- Profit After Tax: ₹46,585 crore, 10.5% growth\\n- EPS: ₹127.74\\n- Key Observations: Revenue and profit after tax increased, although revenue growth slowed compared to the previous year.', additional_kwargs={}, response_metadata={'prompt_feedback': {'block_reason': 0, 'safety_ratings': []}, 'finish_reason': 'STOP', 'safety_ratings': []}, id='run--1c012fd0-0c3b-4b07-abd2-5a9248950db1-0', usage_metadata={'input_tokens': 873, 'output_tokens': 103, 'total_tokens': 976, 'input_token_details': {'cache_read': 0}})"
      ]
     },
     "execution_count": 127,
     "metadata": {},
     "output_type": "execute_result"
    }
   ],
   "source": [
    "answer"
   ]
  },
  {
   "cell_type": "markdown",
   "id": "1f5fa43e",
   "metadata": {},
   "source": [
    "### By using Chains"
   ]
  },
  {
   "cell_type": "code",
   "execution_count": 137,
   "id": "0b3a6cd5",
   "metadata": {},
   "outputs": [],
   "source": [
    "from langchain_core.runnables import RunnableParallel,RunnablePassthrough,RunnableLambda\n",
    "from langchain_core.output_parsers import StrOutputParser"
   ]
  },
  {
   "cell_type": "code",
   "execution_count": 138,
   "id": "5c76bc5f",
   "metadata": {},
   "outputs": [],
   "source": [
    "def format_docs(retrieved_docs):\n",
    "    formatted = []\n",
    "    for doc in retrieved_docs:\n",
    "        if hasattr(doc, \"page_content\"):   # Document object\n",
    "            formatted.append(doc.page_content)\n",
    "        else:   # plain string\n",
    "            formatted.append(str(doc))\n",
    "    return \"\\n\\n\".join(formatted)\n"
   ]
  },
  {
   "cell_type": "code",
   "execution_count": 139,
   "id": "0c7b9cf3",
   "metadata": {},
   "outputs": [],
   "source": [
    "parallel_chain = RunnableParallel({\n",
    "    'context': RunnableLambda(retrive_query) | RunnableLambda(format_docs),\n",
    "    'question': RunnablePassthrough()\n",
    "})"
   ]
  },
  {
   "cell_type": "code",
   "execution_count": 140,
   "id": "36d82c29",
   "metadata": {},
   "outputs": [],
   "source": [
    "parser=StrOutputParser()\n"
   ]
  },
  {
   "cell_type": "code",
   "execution_count": 141,
   "id": "2e7e5572",
   "metadata": {},
   "outputs": [],
   "source": [
    "chain= parallel_chain | prompt | model | parser\n"
   ]
  },
  {
   "cell_type": "code",
   "execution_count": 142,
   "id": "d1bb6539",
   "metadata": {},
   "outputs": [
    {
     "data": {
      "text/plain": [
       "'**Answer:** TCS\\' revenue growth in FY 2024 was 6.8%, while in the prior year it was 17.6%. This indicates a decrease in growth momentum. However, the company\\'s performance showed remarkable resilience against the backdrop of macro uncertainty and geo-political volatility.\\n\\n**Supporting Context:** \"On a reported basis, TCS’ revenue grew 6.8% in FY 2024, compared to 17.6% in the prior year . The company’s performance showed a remarkable resilience against the backdrop of macro uncertainty and geo-political volatility.\"'"
      ]
     },
     "execution_count": 142,
     "metadata": {},
     "output_type": "execute_result"
    }
   ],
   "source": [
    "question=\"How resilient was TCS’ performance compared to the previous year’s growth momentum?\"\n",
    "chain.invoke(question)"
   ]
  },
  {
   "cell_type": "code",
   "execution_count": null,
   "id": "ff202d33",
   "metadata": {},
   "outputs": [],
   "source": []
  },
  {
   "cell_type": "code",
   "execution_count": null,
   "id": "f17ccc02",
   "metadata": {},
   "outputs": [],
   "source": []
  }
 ],
 "metadata": {
  "kernelspec": {
   "display_name": "venv",
   "language": "python",
   "name": "python3"
  },
  "language_info": {
   "codemirror_mode": {
    "name": "ipython",
    "version": 3
   },
   "file_extension": ".py",
   "mimetype": "text/x-python",
   "name": "python",
   "nbconvert_exporter": "python",
   "pygments_lexer": "ipython3",
   "version": "3.12.8"
  }
 },
 "nbformat": 4,
 "nbformat_minor": 5
}
